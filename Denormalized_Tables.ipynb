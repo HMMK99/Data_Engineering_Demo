{
 "cells": [
  {
   "cell_type": "code",
   "execution_count": 1,
   "metadata": {},
   "outputs": [],
   "source": [
    "import psycopg2"
   ]
  },
  {
   "cell_type": "code",
   "execution_count": 2,
   "metadata": {},
   "outputs": [],
   "source": [
    "try:\n",
    "    conn = psycopg2.connect(\"dbname=postgres user=postgres host=localhost password=***** port=5432\")\n",
    "except psycopg2.Error as e:\n",
    "    print(\"error with connection\")\n",
    "    print(e)\n",
    "try:\n",
    "    cur = conn.cursor()\n",
    "except psycopg2.Error as e:\n",
    "    print(\"error with setting cursor\")\n",
    "    print(e)\n",
    "conn.set_session(autocommit=True)"
   ]
  },
  {
   "attachments": {},
   "cell_type": "markdown",
   "metadata": {},
   "source": [
    "we use denormalization for low latency and lower response time <br> also when analysing or using the data"
   ]
  },
  {
   "cell_type": "code",
   "execution_count": 3,
   "metadata": {},
   "outputs": [],
   "source": [
    "create = \"CREATE TABLE IF NOT EXISTS \"\n",
    "try:\n",
    "    cur.execute(create + \"album_liberary(album_id int, album_name varchar, artist_id int, year int)\")\n",
    "except psycopg2.Error as e:\n",
    "    print(\"error with CREATE table\")\n",
    "    print(e)\n",
    "try:\n",
    "    cur.execute(create + \"song_liberary(song_id int, song_name varchar, album_id int)\")\n",
    "except psycopg2.Error as e:\n",
    "    print(\"error with CREATE table\")\n",
    "    print(e)\n",
    "try:\n",
    "    cur.execute(create + \"artist_liberary(artist_id int, artist_name varchar)\")\n",
    "except psycopg2.Error as e:\n",
    "    print(\"error with CREATE table\")\n",
    "    print(e)\n",
    "try:\n",
    "    cur.execute(create + \"song_length(song_id int, length int)\")\n",
    "except psycopg2.Error as e:\n",
    "    print(\"error with CREATE table\")\n",
    "    print(e)"
   ]
  },
  {
   "cell_type": "code",
   "execution_count": 7,
   "metadata": {},
   "outputs": [],
   "source": [
    "inset_into_album = \"INSERT INTO album_liberary (album_id, album_name, artist_id, year)\\\n",
    "    VALUES(%s,%s,%s,%s)\"\n",
    "inset_into_song = \"INSERT INTO song_liberary (song_id, song_name, album_id)\\\n",
    "    VALUES(%s,%s,%s)\"\n",
    "inset_into_artist = \"INSERT INTO artist_liberary (artist_id, artist_name)\\\n",
    "    VALUES(%s,%s)\"\n",
    "inset_into_lenght = \"INSERT INTO song_length (song_id, length)\\\n",
    "    VALUES(%s,%s)\""
   ]
  },
  {
   "cell_type": "code",
   "execution_count": 9,
   "metadata": {},
   "outputs": [],
   "source": [
    "album_values = [(1, \"Rubber Soul\", 1, 1965), (2, \"let it be\", 1, 1970)]\n",
    "song_values = [(1, \"Mechele\", 1), (2, \"think\", 1), (3, \"in my life\", 1), (4, \"let it be\", 2), (5, \"across\", 2)]\n",
    "artist_values = [(1, \"the beatles\")]\n",
    "lenght_values = [(1, 123), (2, 343), (3, 212), (4, 221), (5, 121)]"
   ]
  },
  {
   "cell_type": "code",
   "execution_count": 10,
   "metadata": {},
   "outputs": [],
   "source": [
    "for v in album_values:\n",
    "    try:\n",
    "        cur.execute(inset_into_album, v)\n",
    "    except psycopg2.Error as e:\n",
    "        print(e)\n",
    "for v in song_values:\n",
    "    try:\n",
    "        cur.execute(inset_into_song, v)\n",
    "    except psycopg2.Error as e:\n",
    "        print(e)\n",
    "for v in artist_values:\n",
    "    try:\n",
    "        cur.execute(inset_into_artist, v)\n",
    "    except psycopg2.Error as e:\n",
    "        print(e)\n",
    "for v in lenght_values:\n",
    "    try:\n",
    "        cur.execute(inset_into_lenght, v)\n",
    "    except psycopg2.Error as e:\n",
    "        print(e)\n"
   ]
  },
  {
   "cell_type": "code",
   "execution_count": 11,
   "metadata": {},
   "outputs": [
    {
     "name": "stdout",
     "output_type": "stream",
     "text": [
      "(1, 'Rubber Soul', 1, 1965)\n",
      "(2, 'let it be', 1, 1970)\n",
      "__________________\n",
      "(1, 'Mechele', 1)\n",
      "(2, 'think', 1)\n",
      "(3, 'in my life', 1)\n",
      "(4, 'let it be', 2)\n",
      "(5, 'across', 2)\n",
      "__________________\n",
      "(1, 'the beatles')\n",
      "__________________\n",
      "(1, 123)\n",
      "(2, 343)\n",
      "(3, 212)\n",
      "(4, 221)\n",
      "(5, 121)\n",
      "__________________\n"
     ]
    }
   ],
   "source": [
    "try:\n",
    "    cur.execute(\"SELECT * FROM album_liberary\")\n",
    "except psycopg2.Error as e:\n",
    "    print(e)\n",
    "row = cur.fetchone()\n",
    "while row:\n",
    "    print(row)\n",
    "    row = cur.fetchone()\n",
    "print(\"_\" * 18)\n",
    "try:\n",
    "    cur.execute(\"SELECT * FROM song_liberary\")\n",
    "except psycopg2.Error as e:\n",
    "    print(e)\n",
    "row = cur.fetchone()\n",
    "while row:\n",
    "    print(row)\n",
    "    row = cur.fetchone()\n",
    "print(\"_\" * 18)\n",
    "try:\n",
    "    cur.execute(\"SELECT * FROM artist_liberary\")\n",
    "except psycopg2.Error as e:\n",
    "    print(e)\n",
    "row = cur.fetchone()\n",
    "while row:\n",
    "    print(row)\n",
    "    row = cur.fetchone()\n",
    "print(\"_\" * 18)\n",
    "try:\n",
    "    cur.execute(\"SELECT * FROM song_length\")\n",
    "except psycopg2.Error as e:\n",
    "    print(e)\n",
    "row = cur.fetchone()\n",
    "while row:\n",
    "    print(row)\n",
    "    row = cur.fetchone()\n",
    "print(\"_\" * 18)\n"
   ]
  },
  {
   "cell_type": "code",
   "execution_count": 21,
   "metadata": {},
   "outputs": [
    {
     "name": "stdout",
     "output_type": "stream",
     "text": [
      "(1, 'the beatles', 1, 'Rubber Soul', 1965, 1, 'Mechele', 123)\n",
      "(1, 'the beatles', 1, 'Rubber Soul', 1965, 2, 'think', 343)\n",
      "(1, 'the beatles', 1, 'Rubber Soul', 1965, 3, 'in my life', 212)\n",
      "(1, 'the beatles', 2, 'let it be', 1970, 4, 'let it be', 221)\n",
      "(1, 'the beatles', 2, 'let it be', 1970, 5, 'across', 121)\n",
      "__________________\n"
     ]
    }
   ],
   "source": [
    "denormalized = cur.execute(\"SELECT artist_liberary.artist_id, artist_name, album_liberary.album_id, \\\n",
    "        album_name, year, song_liberary.song_id, song_name, song_length.length \\\n",
    "    FROM (((artist_liberary JOIN album_liberary ON artist_liberary.artist_id=album_liberary.artist_id)\\\n",
    "            JOIN song_liberary ON album_liberary.album_id=song_liberary.album_id)\\\n",
    "                JOIN song_length ON song_liberary.song_id=song_length.song_id)\")\n",
    "row = cur.fetchone()\n",
    "while row:\n",
    "    print(row)\n",
    "    row = cur.fetchone()\n",
    "print(\"_\" * 18)"
   ]
  },
  {
   "attachments": {},
   "cell_type": "markdown",
   "metadata": {},
   "source": [
    "with denormalization we think about the queries to reduce the number of joins in reading to lessen the response time"
   ]
  },
  {
   "cell_type": "code",
   "execution_count": null,
   "metadata": {},
   "outputs": [],
   "source": []
  }
 ],
 "metadata": {
  "kernelspec": {
   "display_name": "Python 3",
   "language": "python",
   "name": "python3"
  },
  "language_info": {
   "codemirror_mode": {
    "name": "ipython",
    "version": 3
   },
   "file_extension": ".py",
   "mimetype": "text/x-python",
   "name": "python",
   "nbconvert_exporter": "python",
   "pygments_lexer": "ipython3",
   "version": "3.8.10"
  },
  "orig_nbformat": 4,
  "vscode": {
   "interpreter": {
    "hash": "4b7ba85ae606e43b4d227a3e53a24b28a241c9d85a77fa78ec4704b93e8f923f"
   }
  }
 },
 "nbformat": 4,
 "nbformat_minor": 2
}
