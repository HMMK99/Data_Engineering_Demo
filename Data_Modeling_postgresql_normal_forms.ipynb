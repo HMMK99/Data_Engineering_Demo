{
 "cells": [
  {
   "cell_type": "code",
   "execution_count": 1,
   "metadata": {},
   "outputs": [],
   "source": [
    "import psycopg2"
   ]
  },
  {
   "attachments": {},
   "cell_type": "markdown",
   "metadata": {},
   "source": [
    "modeling the normalization"
   ]
  },
  {
   "cell_type": "code",
   "execution_count": 12,
   "metadata": {},
   "outputs": [],
   "source": [
    "try:\n",
    "    conn = psycopg2.connect(\"dbname=postgres user=postgres host=localhost password=****** port=5432\")\n",
    "except psycopg2.Error as e:\n",
    "    print(\"error with connection\")\n",
    "    print(e)\n",
    "try:\n",
    "    cur = conn.cursor()\n",
    "except psycopg2.Error as e:\n",
    "    print(\"error with setting cursor\")\n",
    "    print(e)\n",
    "conn.set_session(autocommit=True)"
   ]
  },
  {
   "attachments": {},
   "cell_type": "markdown",
   "metadata": {},
   "source": [
    "music_liberary <br>\n",
    "Album_id | Album_name | Artist_name | Year | List_of_songs"
   ]
  },
  {
   "cell_type": "code",
   "execution_count": 32,
   "metadata": {},
   "outputs": [
    {
     "name": "stdout",
     "output_type": "stream",
     "text": [
      "(1, 'WW', 'CC', 1965, ['xx', 'cc'])\n",
      "(2, 'BW', 'DC', 1962, ['wx', 'hhc'])\n"
     ]
    }
   ],
   "source": [
    "create_query = \"CREATE TABLE IF NOT EXISTS music_liberary(album_id int,\\\n",
    "    album_name varchar, artist_name varchar, year int, songs text[])\"\n",
    "try:\n",
    "    cur.execute(create_query)\n",
    "except psycopg2.Error as e:\n",
    "    print(\"error with creating table\")\n",
    "    print(e)\n",
    "insert_query = \"INSERT INTO music_liberary(album_id, album_name, artist_name, year, songs)\\\n",
    "    VALUES(%s,%s,%s,%s,%s)\"\n",
    "try:\n",
    "    cur.execute(insert_query, (1, \"WW\", \"CC\", 1965, ['xx', 'cc']))\n",
    "except psycopg2.Error as e:\n",
    "    print(\"error with insering into table\")\n",
    "    print(e)\n",
    "try:\n",
    "    cur.execute(insert_query, (2, \"BW\", \"DC\", 1962, ['wx', 'hhc']))\n",
    "except psycopg2.Error as e:\n",
    "    print(\"error with insering into table\")\n",
    "    print(e)\n",
    "try:\n",
    "    cur.execute(\"SELECT * FROM music_liberary\")\n",
    "except psycopg2.Error as e:\n",
    "    print(\"error with SELECT table\")\n",
    "    print(e)\n",
    "row = cur.fetchone()\n",
    "while row:\n",
    "    print(row)\n",
    "    row = cur.fetchone()"
   ]
  },
  {
   "attachments": {},
   "cell_type": "markdown",
   "metadata": {},
   "source": [
    "postgrs allows redundant data"
   ]
  },
  {
   "attachments": {},
   "cell_type": "markdown",
   "metadata": {},
   "source": [
    "to go to the 1NF we need 1 value per cell"
   ]
  },
  {
   "cell_type": "code",
   "execution_count": 33,
   "metadata": {},
   "outputs": [
    {
     "name": "stdout",
     "output_type": "stream",
     "text": [
      "(1, 'WW', 'CC', 1965, 'xx')\n",
      "(1, 'WW', 'CC', 1965, 'cc')\n",
      "(2, 'BW', 'DC', 1962, 'hhc')\n",
      "(2, 'BW', 'DC', 1962, 'wx')\n"
     ]
    }
   ],
   "source": [
    "create_query = \"CREATE TABLE IF NOT EXISTS music_liberary2(album_id int,\\\n",
    "    album_name varchar, artist_name varchar, year int, song varchar)\"\n",
    "try:\n",
    "    cur.execute(create_query)\n",
    "except psycopg2.Error as e:\n",
    "    print(\"error with creating table\")\n",
    "    print(e)\n",
    "insert_query = \"INSERT INTO music_liberary2(album_id, album_name, artist_name, year, song)\\\n",
    "    VALUES(%s,%s,%s,%s,%s)\"\n",
    "try:\n",
    "    cur.execute(insert_query, (1, \"WW\", \"CC\", 1965, 'xx'))\n",
    "except psycopg2.Error as e:\n",
    "    print(\"error with insering into table\")\n",
    "    print(e)\n",
    "try:\n",
    "    cur.execute(insert_query, (1, \"WW\", \"CC\", 1965, 'cc'))\n",
    "except psycopg2.Error as e:\n",
    "    print(\"error with insering into table\")\n",
    "    print(e)\n",
    "try:\n",
    "    cur.execute(insert_query, (2, \"BW\", \"DC\", 1962, 'hhc'))\n",
    "except psycopg2.Error as e:\n",
    "    print(\"error with insering into table\")\n",
    "    print(e)\n",
    "try:\n",
    "    cur.execute(insert_query, (2, \"BW\", \"DC\", 1962, 'wx'))\n",
    "except psycopg2.Error as e:\n",
    "    print(\"error with insering into table\")\n",
    "    print(e)\n",
    "try:\n",
    "    cur.execute(\"SELECT * FROM music_liberary2\")\n",
    "except psycopg2.Error as e:\n",
    "    print(\"error with SELECT table\")\n",
    "    print(e)\n",
    "row = cur.fetchone()\n",
    "while row:\n",
    "    print(row)\n",
    "    row = cur.fetchone()"
   ]
  },
  {
   "attachments": {},
   "cell_type": "markdown",
   "metadata": {},
   "source": [
    "ok now we have 1NF but we still have some redundant data so we split into 2 tables"
   ]
  },
  {
   "cell_type": "code",
   "execution_count": 34,
   "metadata": {},
   "outputs": [
    {
     "name": "stdout",
     "output_type": "stream",
     "text": [
      "(1, 'WW', 'CC', 1965)\n",
      "(2, 'BW', 'DC', 1962)\n",
      "(1, 1, 'xx')\n",
      "(2, 1, 'cc')\n",
      "(3, 2, 'hcc')\n",
      "(4, 2, 'wx')\n"
     ]
    }
   ],
   "source": [
    "create_query1 = \"CREATE TABLE IF NOT EXISTS album_liberary2(album_id int,\\\n",
    "    album_name varchar, artist_name varchar, year int)\"\n",
    "create_query2 = \"CREATE TABLE IF NOT EXISTS songs(song_id int,\\\n",
    "    album_id int, song varchar)\"\n",
    "\n",
    "# creating album liberary table\n",
    "try:\n",
    "    cur.execute(create_query1)\n",
    "except psycopg2.Error as e:\n",
    "    print(\"error with creating table\")\n",
    "    print(e)\n",
    "# inseting into album_liberary\n",
    "insert_query = \"INSERT INTO album_liberary2(album_id, album_name, artist_name, year)\\\n",
    "    VALUES(%s,%s,%s,%s)\"\n",
    "try:\n",
    "    cur.execute(insert_query, (1, \"WW\", \"CC\", 1965))\n",
    "except psycopg2.Error as e:\n",
    "    print(\"error with insering into table\")\n",
    "    print(e)\n",
    "\n",
    "try:\n",
    "    cur.execute(insert_query, (2, \"BW\", \"DC\", 1962))\n",
    "except psycopg2.Error as e:\n",
    "    print(\"error with insering into table\")\n",
    "    print(e)\n",
    "\n",
    "try:\n",
    "    cur.execute(\"SELECT * FROM album_liberary2\")\n",
    "except psycopg2.Error as e:\n",
    "    print(\"error with SELECT table\")\n",
    "    print(e)\n",
    "row = cur.fetchone()\n",
    "while row:\n",
    "    print(row)\n",
    "    row = cur.fetchone()\n",
    "\n",
    "# creating album songs table\n",
    "try:\n",
    "    cur.execute(create_query2)\n",
    "except psycopg2.Error as e:\n",
    "    print(\"error with creating table\")\n",
    "    print(e)\n",
    "# inseting into album_liberary\n",
    "insert_query1 = \"INSERT INTO songs(song_id, album_id, song)\\\n",
    "    VALUES(%s,%s,%s)\"\n",
    "try:\n",
    "    cur.execute(insert_query1, (1, 1, 'xx'))\n",
    "except psycopg2.Error as e:\n",
    "    print(\"error with insering into table\")\n",
    "    print(e)\n",
    "try:\n",
    "    cur.execute(insert_query1, (2, 1, 'cc'))\n",
    "except psycopg2.Error as e:\n",
    "    print(\"error with insering into table\")\n",
    "    print(e)\n",
    "try:\n",
    "    cur.execute(insert_query1, (3, 2, 'hcc'))\n",
    "except psycopg2.Error as e:\n",
    "    print(\"error with insering into table\")\n",
    "    print(e)\n",
    "try:\n",
    "    cur.execute(insert_query1, (4, 2, 'wx'))\n",
    "except psycopg2.Error as e:\n",
    "    print(\"error with insering into table\")\n",
    "    print(e)\n",
    "\n",
    "try:\n",
    "    cur.execute(\"SELECT * FROM songs\")\n",
    "except psycopg2.Error as e:\n",
    "    print(\"error with SELECT table\")\n",
    "    print(e)\n",
    "row = cur.fetchone()\n",
    "while row:\n",
    "    print(row)\n",
    "    row = cur.fetchone()"
   ]
  },
  {
   "cell_type": "code",
   "execution_count": 35,
   "metadata": {},
   "outputs": [
    {
     "name": "stdout",
     "output_type": "stream",
     "text": [
      "(1, 'WW', 'CC', 1965, 1, 1, 'xx')\n",
      "(1, 'WW', 'CC', 1965, 2, 1, 'cc')\n",
      "(2, 'BW', 'DC', 1962, 3, 2, 'hcc')\n",
      "(2, 'BW', 'DC', 1962, 4, 2, 'wx')\n"
     ]
    }
   ],
   "source": [
    "try:\n",
    "    cur.execute(\"SELECT * FROM album_liberary2 JOIN songs ON album_liberary2.album_id = songs.album_id\")\n",
    "except psycopg2.Error as e:\n",
    "    print(\"error with SELECT table\")\n",
    "    print(e)\n",
    "row = cur.fetchone()\n",
    "while row:\n",
    "    print(row)\n",
    "    row = cur.fetchone()"
   ]
  },
  {
   "cell_type": "code",
   "execution_count": 37,
   "metadata": {},
   "outputs": [],
   "source": [
    "# then we get rid of transitive dependancies by maling the artist table\n",
    "try:\n",
    "    cur.execute(\"CREATE TABLE IF NOT EXISTS artists(artist_id int, artist_name varchar)\")\n",
    "except psycopg2.Error as e:\n",
    "    print(e)\n",
    "# and the insert the same as above"
   ]
  },
  {
   "cell_type": "code",
   "execution_count": null,
   "metadata": {},
   "outputs": [],
   "source": [
    "try:\n",
    "    cur.execute(\"DROP TABLE songs\")\n",
    "except psycopg2.Error as e:\n",
    "    print(\"error with DROP table\")\n",
    "    print(e)  \n",
    "    \n",
    "try:\n",
    "    cur.execute(\"DROP TABLE album_liberary2\")\n",
    "except psycopg2.Error as e:\n",
    "    print(\"error with DROP table\")\n",
    "    print(e)  \n",
    "\n",
    "try:\n",
    "    cur.execute(\"DROP TABLE music_liberary\")\n",
    "except psycopg2.Error as e:\n",
    "    print(\"error with DROP table\")\n",
    "    print(e)\n",
    "try:\n",
    "    cur.execute(\"DROP TABLE music_liberary2\")\n",
    "except psycopg2.Error as e:\n",
    "    print(\"error with DROP table\")\n",
    "    print(e) \n",
    "try:\n",
    "    cur.execute(\"DROP TABLE artists\")\n",
    "except psycopg2.Error as e:\n",
    "    print(\"error with DROP table\")\n",
    "    print(e)  "
   ]
  },
  {
   "cell_type": "code",
   "execution_count": 41,
   "metadata": {},
   "outputs": [],
   "source": [
    "cur.close()\n",
    "conn.close()"
   ]
  },
  {
   "cell_type": "code",
   "execution_count": null,
   "metadata": {},
   "outputs": [],
   "source": []
  }
 ],
 "metadata": {
  "kernelspec": {
   "display_name": "Python 3",
   "language": "python",
   "name": "python3"
  },
  "language_info": {
   "codemirror_mode": {
    "name": "ipython",
    "version": 3
   },
   "file_extension": ".py",
   "mimetype": "text/x-python",
   "name": "python",
   "nbconvert_exporter": "python",
   "pygments_lexer": "ipython3",
   "version": "3.8.10"
  },
  "orig_nbformat": 4,
  "vscode": {
   "interpreter": {
    "hash": "4b7ba85ae606e43b4d227a3e53a24b28a241c9d85a77fa78ec4704b93e8f923f"
   }
  }
 },
 "nbformat": 4,
 "nbformat_minor": 2
}
